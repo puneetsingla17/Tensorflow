{
  "cells": [
    {
      "metadata": {
        "_uuid": "8f2839f25d086af736a60e9eeb907d3b93b6e0e5",
        "_cell_guid": "b1076dfc-b9ad-4769-8c92-a6c4dae69d19",
        "trusted": true
      },
      "cell_type": "code",
      "source": "# This Python 3 environment comes with many helpful analytics libraries installed\n# It is defined by the kaggle/python docker image: https://github.com/kaggle/docker-python\n# For example, here's several helpful packages to load in \n\nimport numpy as np # linear algebra\nimport pandas as pd # data processing, CSV file I/O (e.g. pd.read_csv)\nimport tensorflow as tf\nimport matplotlib.pyplot as plt\n\n# Input data files are available in the \"../input/\" directory.\n# For example, running this (by clicking run or pressing Shift+Enter) will list the files in the input directory\n\nimport os\nprint(os.listdir(\"../input\"))\n\n# Any results you write to the current directory are saved as output.",
      "execution_count": null,
      "outputs": []
    },
    {
      "metadata": {
        "_cell_guid": "79c7e3d0-c299-4dcb-8224-4455121ee9b0",
        "_uuid": "d629ff2d2480ee46fbb7e2d37f6b5fab8052498a",
        "trusted": true
      },
      "cell_type": "code",
      "source": "tf.set_random_seed(1)\nnp.random.seed(1)",
      "execution_count": null,
      "outputs": []
    },
    {
      "metadata": {
        "trusted": true,
        "_uuid": "a3e3e8cebcf2c96459cdd3dee7818ec50583e0ba"
      },
      "cell_type": "code",
      "source": "x=np.linspace(-1,1,100)[:,np.newaxis]\ny=x**2\n",
      "execution_count": null,
      "outputs": []
    },
    {
      "metadata": {
        "trusted": true,
        "_uuid": "213c0e0a28b64dd4e469af04ebc441efb697cb6b"
      },
      "cell_type": "code",
      "source": "y.dtype\nx1.dtype",
      "execution_count": 37,
      "outputs": [
        {
          "output_type": "execute_result",
          "execution_count": 37,
          "data": {
            "text/plain": "dtype('float64')"
          },
          "metadata": {}
        }
      ]
    },
    {
      "metadata": {
        "trusted": true,
        "_uuid": "c0dbd7666fe931abb62d5eace3fc317097574a33"
      },
      "cell_type": "code",
      "source": "plt.scatter(x,y)",
      "execution_count": null,
      "outputs": []
    },
    {
      "metadata": {
        "trusted": true,
        "_uuid": "f903802b8722fe7d8fe99d28c8e2d682db35c59a"
      },
      "cell_type": "code",
      "source": "noise=np.random.normal(0,0.1,size=x.shape)\nx1=x+noise\nprint(x1.shape)\nprint(y.shape)",
      "execution_count": 40,
      "outputs": [
        {
          "output_type": "stream",
          "text": "(100, 1)\n(100, 1)\n",
          "name": "stdout"
        }
      ]
    },
    {
      "metadata": {
        "trusted": true,
        "_uuid": "82b23efd8f816966c19ee39a12e8f4a48bba0eed"
      },
      "cell_type": "code",
      "source": "plt.scatter(x1,y)",
      "execution_count": null,
      "outputs": []
    },
    {
      "metadata": {
        "trusted": true,
        "_uuid": "8e39f8f27ac579682985ce5d25b7b3f8e40fc8db"
      },
      "cell_type": "code",
      "source": "X=tf.placeholder(tf.float64,shape=list(x1.shape))\nY=tf.placeholder(tf.float64,shape=list(y.shape))",
      "execution_count": 47,
      "outputs": []
    },
    {
      "metadata": {
        "trusted": true,
        "_uuid": "675040810745217bca2e501fe70d7056ce3ac365"
      },
      "cell_type": "code",
      "source": "out=tf.layers.dense(X,10,tf.nn.relu)\nout=tf.layers.dense(out,1)",
      "execution_count": 48,
      "outputs": []
    },
    {
      "metadata": {
        "trusted": true,
        "_uuid": "dc9f244374b314b858fbd60797c59a25708fbf56"
      },
      "cell_type": "code",
      "source": "loss=tf.losses.mean_squared_error(Y,out)\noptimize=tf.train.GradientDescentOptimizer(learning_rate=0.5).minimize(loss)",
      "execution_count": 61,
      "outputs": []
    },
    {
      "metadata": {
        "trusted": true,
        "_uuid": "1d9f518a1fd4848190c573235e904aa2ed6fe0ba"
      },
      "cell_type": "code",
      "source": "nepochs=100",
      "execution_count": 62,
      "outputs": []
    },
    {
      "metadata": {
        "trusted": true,
        "_uuid": "ef0a5c243b126784477a88116c1786ddcff3843b"
      },
      "cell_type": "code",
      "source": "s=tf.Session()\ns.run(tf.global_variables_initializer())",
      "execution_count": 63,
      "outputs": []
    },
    {
      "metadata": {
        "trusted": true,
        "_uuid": "9c82337bd3c5466793caaedc15cf7760a24613b5"
      },
      "cell_type": "code",
      "source": "for i in range(nepochs):\n    _,l,ypred=s.run([optimize,loss,out],feed_dict={X:x1,Y:y})\n    \n    if i%5==0:\n        plt.cla()\n        plt.scatter(x,y)\n        plt.scatter(x,ypred,c='r')\n        plt.pause(0.1)\n    ",
      "execution_count": null,
      "outputs": [
        {
          "output_type": "display_data",
          "data": {
            "text/plain": "<Figure size 432x288 with 1 Axes>",
            "image/png": "[encoded data removed]"
          },
          "metadata": {}
        }
      ]
    },
    {
      "metadata": {
        "trusted": true,
        "_uuid": "4ea33ab6178d9d6cebdf31c98810aeb2d2dd265b"
      },
      "cell_type": "code",
      "source": "",
      "execution_count": null,
      "outputs": []
    }
  ],
  "metadata": {
    "kernelspec": {
      "display_name": "Python 3",
      "language": "python",
      "name": "python3"
    },
    "language_info": {
      "name": "python",
      "version": "3.6.6",
      "mimetype": "text/x-python",
      "codemirror_mode": {
        "name": "ipython",
        "version": 3
      },
      "pygments_lexer": "ipython3",
      "nbconvert_exporter": "python",
      "file_extension": ".py"
    }
  },
  "nbformat": 4,
  "nbformat_minor": 1
}